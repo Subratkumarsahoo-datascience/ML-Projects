{
 "cells": [
  {
   "cell_type": "code",
   "execution_count": 3,
   "id": "25038769-aaa6-4e41-abaa-e2c7cbc6074a",
   "metadata": {},
   "outputs": [
    {
     "name": "stdout",
     "output_type": "stream",
     "text": [
      "Using matplotlib backend: <object object at 0x0000029F54EF5D50>\n"
     ]
    }
   ],
   "source": [
    "%matplotlib\n",
    "import matplotlib.pyplot as plt\n",
    "import numpy as np\n",
    "import pandas as pd\n",
    "import datetime as dt\n",
    "import warnings\n",
    "warnings.filterwarnings('ignore')\n",
    "\n",
    "from sklearn.model_selection import train_test_split,KFold\n",
    "from sklearn.linear_model import LinearRegression\n",
    "from sklearn.tree import DecisionTreeRegressor\n",
    "from sklearn.linear_model import Ridge,Lasso\n",
    "from sklearn.neighbors import KNeighborsClassifier\n",
    "\n",
    "\n",
    "                        "
   ]
  },
  {
   "cell_type": "code",
   "execution_count": 5,
   "id": "6f97bb60-51b7-4c68-8deb-a8a98ceacc40",
   "metadata": {},
   "outputs": [],
   "source": [
    "df=pd.read_csv('datasets/nyc_taxi_trip_duration.csv')"
   ]
  },
  {
   "cell_type": "code",
   "execution_count": 6,
   "id": "d928291a-7798-496b-86f3-692cf55ec008",
   "metadata": {},
   "outputs": [
    {
     "data": {
      "text/html": [
       "<div>\n",
       "<style scoped>\n",
       "    .dataframe tbody tr th:only-of-type {\n",
       "        vertical-align: middle;\n",
       "    }\n",
       "\n",
       "    .dataframe tbody tr th {\n",
       "        vertical-align: top;\n",
       "    }\n",
       "\n",
       "    .dataframe thead th {\n",
       "        text-align: right;\n",
       "    }\n",
       "</style>\n",
       "<table border=\"1\" class=\"dataframe\">\n",
       "  <thead>\n",
       "    <tr style=\"text-align: right;\">\n",
       "      <th></th>\n",
       "      <th>id</th>\n",
       "      <th>vendor_id</th>\n",
       "      <th>pickup_datetime</th>\n",
       "      <th>dropoff_datetime</th>\n",
       "      <th>passenger_count</th>\n",
       "      <th>pickup_longitude</th>\n",
       "      <th>pickup_latitude</th>\n",
       "      <th>dropoff_longitude</th>\n",
       "      <th>dropoff_latitude</th>\n",
       "      <th>store_and_fwd_flag</th>\n",
       "      <th>trip_duration</th>\n",
       "    </tr>\n",
       "  </thead>\n",
       "  <tbody>\n",
       "    <tr>\n",
       "      <th>0</th>\n",
       "      <td>id1080784</td>\n",
       "      <td>2</td>\n",
       "      <td>2016-02-29 16:40:21</td>\n",
       "      <td>2016-02-29 16:47:01</td>\n",
       "      <td>1</td>\n",
       "      <td>-73.953918</td>\n",
       "      <td>40.778873</td>\n",
       "      <td>-73.963875</td>\n",
       "      <td>40.771164</td>\n",
       "      <td>N</td>\n",
       "      <td>400</td>\n",
       "    </tr>\n",
       "    <tr>\n",
       "      <th>1</th>\n",
       "      <td>id0889885</td>\n",
       "      <td>1</td>\n",
       "      <td>2016-03-11 23:35:37</td>\n",
       "      <td>2016-03-11 23:53:57</td>\n",
       "      <td>2</td>\n",
       "      <td>-73.988312</td>\n",
       "      <td>40.731743</td>\n",
       "      <td>-73.994751</td>\n",
       "      <td>40.694931</td>\n",
       "      <td>N</td>\n",
       "      <td>1100</td>\n",
       "    </tr>\n",
       "    <tr>\n",
       "      <th>2</th>\n",
       "      <td>id0857912</td>\n",
       "      <td>2</td>\n",
       "      <td>2016-02-21 17:59:33</td>\n",
       "      <td>2016-02-21 18:26:48</td>\n",
       "      <td>2</td>\n",
       "      <td>-73.997314</td>\n",
       "      <td>40.721458</td>\n",
       "      <td>-73.948029</td>\n",
       "      <td>40.774918</td>\n",
       "      <td>N</td>\n",
       "      <td>1635</td>\n",
       "    </tr>\n",
       "    <tr>\n",
       "      <th>3</th>\n",
       "      <td>id3744273</td>\n",
       "      <td>2</td>\n",
       "      <td>2016-01-05 09:44:31</td>\n",
       "      <td>2016-01-05 10:03:32</td>\n",
       "      <td>6</td>\n",
       "      <td>-73.961670</td>\n",
       "      <td>40.759720</td>\n",
       "      <td>-73.956779</td>\n",
       "      <td>40.780628</td>\n",
       "      <td>N</td>\n",
       "      <td>1141</td>\n",
       "    </tr>\n",
       "    <tr>\n",
       "      <th>4</th>\n",
       "      <td>id0232939</td>\n",
       "      <td>1</td>\n",
       "      <td>2016-02-17 06:42:23</td>\n",
       "      <td>2016-02-17 06:56:31</td>\n",
       "      <td>1</td>\n",
       "      <td>-74.017120</td>\n",
       "      <td>40.708469</td>\n",
       "      <td>-73.988182</td>\n",
       "      <td>40.740631</td>\n",
       "      <td>N</td>\n",
       "      <td>848</td>\n",
       "    </tr>\n",
       "  </tbody>\n",
       "</table>\n",
       "</div>"
      ],
      "text/plain": [
       "          id  vendor_id      pickup_datetime     dropoff_datetime  \\\n",
       "0  id1080784          2  2016-02-29 16:40:21  2016-02-29 16:47:01   \n",
       "1  id0889885          1  2016-03-11 23:35:37  2016-03-11 23:53:57   \n",
       "2  id0857912          2  2016-02-21 17:59:33  2016-02-21 18:26:48   \n",
       "3  id3744273          2  2016-01-05 09:44:31  2016-01-05 10:03:32   \n",
       "4  id0232939          1  2016-02-17 06:42:23  2016-02-17 06:56:31   \n",
       "\n",
       "   passenger_count  pickup_longitude  pickup_latitude  dropoff_longitude  \\\n",
       "0                1        -73.953918        40.778873         -73.963875   \n",
       "1                2        -73.988312        40.731743         -73.994751   \n",
       "2                2        -73.997314        40.721458         -73.948029   \n",
       "3                6        -73.961670        40.759720         -73.956779   \n",
       "4                1        -74.017120        40.708469         -73.988182   \n",
       "\n",
       "   dropoff_latitude store_and_fwd_flag  trip_duration  \n",
       "0         40.771164                  N            400  \n",
       "1         40.694931                  N           1100  \n",
       "2         40.774918                  N           1635  \n",
       "3         40.780628                  N           1141  \n",
       "4         40.740631                  N            848  "
      ]
     },
     "execution_count": 6,
     "metadata": {},
     "output_type": "execute_result"
    }
   ],
   "source": [
    "df.head()\n"
   ]
  },
  {
   "cell_type": "markdown",
   "id": "b318d105-953e-45ac-9b17-dccb4e306cdf",
   "metadata": {},
   "source": [
    "### Preprocessing and Feature Extraction"
   ]
  },
  {
   "cell_type": "markdown",
   "id": "56716e3d-e798-4bcc-83e4-564fee2daa0c",
   "metadata": {},
   "source": [
    "#### DateTime conversion"
   ]
  },
  {
   "cell_type": "code",
   "execution_count": 9,
   "id": "a54ec5b5-0b9e-4f34-826c-d7c469d1fd36",
   "metadata": {},
   "outputs": [],
   "source": [
    "#converting strings into datetime features\n",
    "df['pickup_datetime']=pd.to_datetime(df.pickup_datetime)\n",
    "df['dropoff_datetime']=pd.to_datetime(df.dropoff_datetime)\n"
   ]
  },
  {
   "cell_type": "code",
   "execution_count": 10,
   "id": "fbf6d7bf-344f-443c-94ba-4296521e8110",
   "metadata": {},
   "outputs": [
    {
     "data": {
      "text/plain": [
       "0         5.993961\n",
       "1         7.003974\n",
       "2         7.400010\n",
       "3         7.040536\n",
       "4         6.744059\n",
       "            ...   \n",
       "729317    5.693732\n",
       "729318    5.755742\n",
       "729319    6.513230\n",
       "729320    6.104793\n",
       "729321    7.110696\n",
       "Name: trip_duration_log, Length: 729322, dtype: float64"
      ]
     },
     "execution_count": 10,
     "metadata": {},
     "output_type": "execute_result"
    }
   ],
   "source": [
    "#Log Transform the Y values\n",
    "\n",
    "df['trip_duration_log']=np.log(df['trip_duration']+1)\n",
    "df['trip_duration_log']"
   ]
  },
  {
   "cell_type": "code",
   "execution_count": 11,
   "id": "644db707-7c86-4b03-9aaf-a6cbc5e8ac71",
   "metadata": {},
   "outputs": [],
   "source": [
    "#Add some datetime features\n",
    "df['pickup_weekday']=df['pickup_datetime'].dt.weekday\n",
    "df['pickup_weekofyear']=df['pickup_datetime'].dt.strftime('%V').astype('float')\n",
    "df['pickup_hour']=df['pickup_datetime'].dt.hour\n",
    "df['pickup_minute']=df['pickup_datetime'].dt.minute\n",
    "df['pickup_secs']=(df['pickup_datetime']-df['pickup_datetime'].min()).dt.total_seconds()#min() is minimum\n",
    "df['pickup_week_hours']=df['pickup_weekday']*24+df['pickup_hour']#  Adds the hour of the day to the total hours since the start of the week."
   ]
  },
  {
   "cell_type": "markdown",
   "id": "ead4a3f6-08ed-4579-bc10-bb45bec99606",
   "metadata": {},
   "source": [
    "### Distance features"
   ]
  },
  {
   "cell_type": "markdown",
   "id": "c184e2bc-e6dd-4cdb-9ad8-281e5596e801",
   "metadata": {},
   "source": [
    "##### Euclidean distance"
   ]
  },
  {
   "cell_type": "code",
   "execution_count": 14,
   "id": "ec386a9d-ec61-4f22-a42b-002f0999a71b",
   "metadata": {},
   "outputs": [],
   "source": [
    "#displacement\n",
    "y_dist=df['pickup_longitude']-df['dropoff_longitude']\n",
    "x_dist=df['pickup_latitude']-df['dropoff_latitude']\n",
    "\n",
    "#square distance\n",
    "df['distance']=np.sqrt(y_dist**2 + x_dist**2)"
   ]
  },
  {
   "cell_type": "markdown",
   "id": "c77afc93-b151-4db8-9071-09524e4de3af",
   "metadata": {},
   "source": [
    "#### Haversine distance"
   ]
  },
  {
   "cell_type": "code",
   "execution_count": 16,
   "id": "9b070210-325f-456b-ac66-cf51fbf8e88e",
   "metadata": {},
   "outputs": [],
   "source": [
    "def haversine_array(lat1,lng1,lat2,lng2):\n",
    "    lat1,lng1,lat2,lng2=map(np.radians,(lat1,lng1,lat2,lng2))\n",
    "    Average_earth_radius=6371# in kms\n",
    "    lat=lat2-lat1\n",
    "    lng=lng2-lng1\n",
    "    d=np.sin(lat/2)**2 + np.cos(lat1)*np.cos(lat1)*np.cos(lat2)*np.sin(lng/2)**2\n",
    "    h=2*Average_earth_radius*np.arcsin(np.sqrt(d))\n",
    "    return h\n",
    "\n",
    "def direction_array(lat1,lng1,lat2,lng2):\n",
    "    lat1,lng1,lat2,lng2=map(np.radians,(lat1,lng1,lat2,lng2))\n",
    "    Average_earth_radius=6371# in kms\n",
    "    lng_delta_rad=np.radians(lng2-lng1)\n",
    "    y=np.sin(lng_delta_rad)*np.cos(lat2)\n",
    "    x=np.cos(lat1)*np.sin(lat2)-np.sin(lat1)*np.cos(lat2)*np.cos(lng_delta_rad)\n",
    "    return np.degrees(np.arctan2(y,x))\n",
    "\n",
    "\n",
    "df['haversine _distance']=haversine_array(df['pickup_latitude'].values,\n",
    "                                           df['pickup_longitude'].values,\n",
    "                                           df['dropoff_latitude'].values,\n",
    "                                           df['dropoff_longitude'].values)\n",
    "\n",
    "df['direction']=direction_array(df['pickup_latitude'].values,\n",
    "                                           df['pickup_longitude'].values,\n",
    "                                           df['dropoff_latitude'].values,\n",
    "                                           df['dropoff_longitude'].values)\n",
    "\n",
    "        \n",
    "    \n",
    "\n"
   ]
  },
  {
   "cell_type": "code",
   "execution_count": 19,
   "id": "9e25ab1f-f5bd-4d26-a185-1170caec3c9d",
   "metadata": {},
   "outputs": [
    {
     "name": "stdout",
     "output_type": "stream",
     "text": [
      "Requirement already satisfied: geopy in c:\\users\\hi\\anaconda3\\lib\\site-packages (2.4.1)\n",
      "Requirement already satisfied: geographiclib<3,>=1.52 in c:\\users\\hi\\anaconda3\\lib\\site-packages (from geopy) (2.0)\n"
     ]
    },
    {
     "name": "stderr",
     "output_type": "stream",
     "text": [
      "\n",
      "[notice] A new release of pip is available: 24.2 -> 24.3.1\n",
      "[notice] To update, run: python.exe -m pip install --upgrade pip\n"
     ]
    }
   ],
   "source": [
    "!pip install geopy\n",
    "\n",
    "from geopy.distance import great_circle\n",
    "\n",
    "def cal_distance(pickup_lat,pickup_lon,dropoff_lat,dropoff_lon):\n",
    "    start_coordinates=[pickup_lat,pickup_lon]\n",
    "    stop_coordinates=[dropoff_lat,dropoff_lon]\n",
    "    return great_circle(start_coordinates,stop_coordinates).km\n",
    "\n",
    "df['distance']=df.apply(lambda x: cal_distance(x['pickup_latitude'],x['pickup_longitude'],x['dropoff_latitude'],x['dropoff_longitude']),axis=1)\n",
    "\n",
    "\n"
   ]
  },
  {
   "cell_type": "markdown",
   "id": "3f500236-fb14-406e-ab26-71e54a08f70e",
   "metadata": {},
   "source": [
    "#### Binning"
   ]
  },
  {
   "cell_type": "code",
   "execution_count": 21,
   "id": "ed042bc9-c144-46fd-a064-dbd28f53559d",
   "metadata": {},
   "outputs": [],
   "source": [
    "### roundup latitude and longitude values\n",
    "df['pickup_latitude_rounded']=np.round(df['pickup_latitude'],3)\n",
    "df['pickup_longitude_rounded']=np.round(df['pickup_longitude'],3)\n",
    "\n",
    "df['dropoff_latitude_rounded']=np.round(df['dropoff_latitude'],3)\n",
    "df['dropoff_longitude_rounded']=np.round(df['dropoff_longitude'],3)\n",
    "\n",
    "#df['trip_duration_in_hours']=df['trip_duration'].values/3600\n",
    "#trip_per_hour=pd.cut(df['trip_duration_in_hours'],bins=range(0,25),labels=range(1,25))\n",
    "\n",
    "\n",
    "#df['trip_duration_for_hours_binning']=trip_per_hour"
   ]
  },
  {
   "cell_type": "code",
   "execution_count": 22,
   "id": "1f7462aa-59ad-4ff7-9e08-8b5ed75bb82b",
   "metadata": {},
   "outputs": [],
   "source": [
    "#trip_per_hour"
   ]
  },
  {
   "cell_type": "code",
   "execution_count": 25,
   "id": "f9d9239e-c210-451b-b492-39777e609c12",
   "metadata": {},
   "outputs": [],
   "source": [
    "#duration_hours_count=df.trip_duration_for_hours_binning.value_counts()"
   ]
  },
  {
   "cell_type": "code",
   "execution_count": 26,
   "id": "e4ef9fd7-c106-4e7f-9cf6-5e2bbab06540",
   "metadata": {},
   "outputs": [],
   "source": [
    "#df['trip_hours_rides_count']=df['trip_duration_for_hours_binning'].apply(lambda x: duration_hours_count[x])"
   ]
  },
  {
   "cell_type": "code",
   "execution_count": 27,
   "id": "0c9b1b73-6c74-4370-b83e-562797a28554",
   "metadata": {
    "scrolled": true
   },
   "outputs": [
    {
     "data": {
      "text/html": [
       "<div>\n",
       "<style scoped>\n",
       "    .dataframe tbody tr th:only-of-type {\n",
       "        vertical-align: middle;\n",
       "    }\n",
       "\n",
       "    .dataframe tbody tr th {\n",
       "        vertical-align: top;\n",
       "    }\n",
       "\n",
       "    .dataframe thead th {\n",
       "        text-align: right;\n",
       "    }\n",
       "</style>\n",
       "<table border=\"1\" class=\"dataframe\">\n",
       "  <thead>\n",
       "    <tr style=\"text-align: right;\">\n",
       "      <th></th>\n",
       "      <th>id</th>\n",
       "      <th>vendor_id</th>\n",
       "      <th>pickup_datetime</th>\n",
       "      <th>dropoff_datetime</th>\n",
       "      <th>passenger_count</th>\n",
       "      <th>pickup_longitude</th>\n",
       "      <th>pickup_latitude</th>\n",
       "      <th>dropoff_longitude</th>\n",
       "      <th>dropoff_latitude</th>\n",
       "      <th>store_and_fwd_flag</th>\n",
       "      <th>...</th>\n",
       "      <th>pickup_minute</th>\n",
       "      <th>pickup_secs</th>\n",
       "      <th>pickup_week_hours</th>\n",
       "      <th>distance</th>\n",
       "      <th>haversine _distance</th>\n",
       "      <th>direction</th>\n",
       "      <th>pickup_latitude_rounded</th>\n",
       "      <th>pickup_longitude_rounded</th>\n",
       "      <th>dropoff_latitude_rounded</th>\n",
       "      <th>dropoff_longitude_rounded</th>\n",
       "    </tr>\n",
       "  </thead>\n",
       "  <tbody>\n",
       "    <tr>\n",
       "      <th>0</th>\n",
       "      <td>id1080784</td>\n",
       "      <td>2</td>\n",
       "      <td>2016-02-29 16:40:21</td>\n",
       "      <td>2016-02-29 16:47:01</td>\n",
       "      <td>1</td>\n",
       "      <td>-73.953918</td>\n",
       "      <td>40.778873</td>\n",
       "      <td>-73.963875</td>\n",
       "      <td>40.771164</td>\n",
       "      <td>N</td>\n",
       "      <td>...</td>\n",
       "      <td>40</td>\n",
       "      <td>5157547.0</td>\n",
       "      <td>16</td>\n",
       "      <td>1.199074</td>\n",
       "      <td>1.125673</td>\n",
       "      <td>-179.022057</td>\n",
       "      <td>40.779</td>\n",
       "      <td>-73.954</td>\n",
       "      <td>40.771</td>\n",
       "      <td>-73.964</td>\n",
       "    </tr>\n",
       "    <tr>\n",
       "      <th>1</th>\n",
       "      <td>id0889885</td>\n",
       "      <td>1</td>\n",
       "      <td>2016-03-11 23:35:37</td>\n",
       "      <td>2016-03-11 23:53:57</td>\n",
       "      <td>2</td>\n",
       "      <td>-73.988312</td>\n",
       "      <td>40.731743</td>\n",
       "      <td>-73.994751</td>\n",
       "      <td>40.694931</td>\n",
       "      <td>N</td>\n",
       "      <td>...</td>\n",
       "      <td>35</td>\n",
       "      <td>6132863.0</td>\n",
       "      <td>119</td>\n",
       "      <td>4.129117</td>\n",
       "      <td>4.120462</td>\n",
       "      <td>-179.867376</td>\n",
       "      <td>40.732</td>\n",
       "      <td>-73.988</td>\n",
       "      <td>40.695</td>\n",
       "      <td>-73.995</td>\n",
       "    </tr>\n",
       "    <tr>\n",
       "      <th>2</th>\n",
       "      <td>id0857912</td>\n",
       "      <td>2</td>\n",
       "      <td>2016-02-21 17:59:33</td>\n",
       "      <td>2016-02-21 18:26:48</td>\n",
       "      <td>2</td>\n",
       "      <td>-73.997314</td>\n",
       "      <td>40.721458</td>\n",
       "      <td>-73.948029</td>\n",
       "      <td>40.774918</td>\n",
       "      <td>N</td>\n",
       "      <td>...</td>\n",
       "      <td>59</td>\n",
       "      <td>4471099.0</td>\n",
       "      <td>161</td>\n",
       "      <td>7.250763</td>\n",
       "      <td>6.957011</td>\n",
       "      <td>0.698130</td>\n",
       "      <td>40.721</td>\n",
       "      <td>-73.997</td>\n",
       "      <td>40.775</td>\n",
       "      <td>-73.948</td>\n",
       "    </tr>\n",
       "    <tr>\n",
       "      <th>3</th>\n",
       "      <td>id3744273</td>\n",
       "      <td>2</td>\n",
       "      <td>2016-01-05 09:44:31</td>\n",
       "      <td>2016-01-05 10:03:32</td>\n",
       "      <td>6</td>\n",
       "      <td>-73.961670</td>\n",
       "      <td>40.759720</td>\n",
       "      <td>-73.956779</td>\n",
       "      <td>40.780628</td>\n",
       "      <td>N</td>\n",
       "      <td>...</td>\n",
       "      <td>44</td>\n",
       "      <td>380597.0</td>\n",
       "      <td>33</td>\n",
       "      <td>2.361101</td>\n",
       "      <td>2.352370</td>\n",
       "      <td>0.177111</td>\n",
       "      <td>40.760</td>\n",
       "      <td>-73.962</td>\n",
       "      <td>40.781</td>\n",
       "      <td>-73.957</td>\n",
       "    </tr>\n",
       "    <tr>\n",
       "      <th>4</th>\n",
       "      <td>id0232939</td>\n",
       "      <td>1</td>\n",
       "      <td>2016-02-17 06:42:23</td>\n",
       "      <td>2016-02-17 06:56:31</td>\n",
       "      <td>1</td>\n",
       "      <td>-74.017120</td>\n",
       "      <td>40.708469</td>\n",
       "      <td>-73.988182</td>\n",
       "      <td>40.740631</td>\n",
       "      <td>N</td>\n",
       "      <td>...</td>\n",
       "      <td>42</td>\n",
       "      <td>4084869.0</td>\n",
       "      <td>54</td>\n",
       "      <td>4.328540</td>\n",
       "      <td>4.159001</td>\n",
       "      <td>0.681702</td>\n",
       "      <td>40.708</td>\n",
       "      <td>-74.017</td>\n",
       "      <td>40.741</td>\n",
       "      <td>-73.988</td>\n",
       "    </tr>\n",
       "  </tbody>\n",
       "</table>\n",
       "<p>5 rows × 25 columns</p>\n",
       "</div>"
      ],
      "text/plain": [
       "          id  vendor_id     pickup_datetime    dropoff_datetime  \\\n",
       "0  id1080784          2 2016-02-29 16:40:21 2016-02-29 16:47:01   \n",
       "1  id0889885          1 2016-03-11 23:35:37 2016-03-11 23:53:57   \n",
       "2  id0857912          2 2016-02-21 17:59:33 2016-02-21 18:26:48   \n",
       "3  id3744273          2 2016-01-05 09:44:31 2016-01-05 10:03:32   \n",
       "4  id0232939          1 2016-02-17 06:42:23 2016-02-17 06:56:31   \n",
       "\n",
       "   passenger_count  pickup_longitude  pickup_latitude  dropoff_longitude  \\\n",
       "0                1        -73.953918        40.778873         -73.963875   \n",
       "1                2        -73.988312        40.731743         -73.994751   \n",
       "2                2        -73.997314        40.721458         -73.948029   \n",
       "3                6        -73.961670        40.759720         -73.956779   \n",
       "4                1        -74.017120        40.708469         -73.988182   \n",
       "\n",
       "   dropoff_latitude store_and_fwd_flag  ...  pickup_minute  pickup_secs  \\\n",
       "0         40.771164                  N  ...             40    5157547.0   \n",
       "1         40.694931                  N  ...             35    6132863.0   \n",
       "2         40.774918                  N  ...             59    4471099.0   \n",
       "3         40.780628                  N  ...             44     380597.0   \n",
       "4         40.740631                  N  ...             42    4084869.0   \n",
       "\n",
       "   pickup_week_hours  distance  haversine _distance   direction  \\\n",
       "0                 16  1.199074             1.125673 -179.022057   \n",
       "1                119  4.129117             4.120462 -179.867376   \n",
       "2                161  7.250763             6.957011    0.698130   \n",
       "3                 33  2.361101             2.352370    0.177111   \n",
       "4                 54  4.328540             4.159001    0.681702   \n",
       "\n",
       "   pickup_latitude_rounded  pickup_longitude_rounded  \\\n",
       "0                   40.779                   -73.954   \n",
       "1                   40.732                   -73.988   \n",
       "2                   40.721                   -73.997   \n",
       "3                   40.760                   -73.962   \n",
       "4                   40.708                   -74.017   \n",
       "\n",
       "   dropoff_latitude_rounded  dropoff_longitude_rounded  \n",
       "0                    40.771                    -73.964  \n",
       "1                    40.695                    -73.995  \n",
       "2                    40.775                    -73.948  \n",
       "3                    40.781                    -73.957  \n",
       "4                    40.741                    -73.988  \n",
       "\n",
       "[5 rows x 25 columns]"
      ]
     },
     "execution_count": 27,
     "metadata": {},
     "output_type": "execute_result"
    }
   ],
   "source": [
    "df.head()"
   ]
  },
  {
   "cell_type": "code",
   "execution_count": 28,
   "id": "cf71bc8f-0263-4efa-a075-6e349a2aa08a",
   "metadata": {},
   "outputs": [
    {
     "data": {
      "text/html": [
       "<div>\n",
       "<style scoped>\n",
       "    .dataframe tbody tr th:only-of-type {\n",
       "        vertical-align: middle;\n",
       "    }\n",
       "\n",
       "    .dataframe tbody tr th {\n",
       "        vertical-align: top;\n",
       "    }\n",
       "\n",
       "    .dataframe thead th {\n",
       "        text-align: right;\n",
       "    }\n",
       "</style>\n",
       "<table border=\"1\" class=\"dataframe\">\n",
       "  <thead>\n",
       "    <tr style=\"text-align: right;\">\n",
       "      <th></th>\n",
       "      <th>id</th>\n",
       "      <th>vendor_id</th>\n",
       "      <th>pickup_datetime</th>\n",
       "      <th>dropoff_datetime</th>\n",
       "      <th>passenger_count</th>\n",
       "      <th>pickup_longitude</th>\n",
       "      <th>pickup_latitude</th>\n",
       "      <th>dropoff_longitude</th>\n",
       "      <th>dropoff_latitude</th>\n",
       "      <th>store_and_fwd_flag</th>\n",
       "      <th>trip_duration</th>\n",
       "      <th>trip_duration_log</th>\n",
       "      <th>pickup_weekday</th>\n",
       "      <th>pickup_weekofyear</th>\n",
       "      <th>pickup_hour</th>\n",
       "      <th>pickup_minute</th>\n",
       "      <th>pickup_secs</th>\n",
       "      <th>pickup_week_hours</th>\n",
       "      <th>distance</th>\n",
       "      <th>haversine _distance</th>\n",
       "      <th>direction</th>\n",
       "      <th>pickup_latitude_rounded</th>\n",
       "      <th>pickup_longitude_rounded</th>\n",
       "      <th>dropoff_latitude_rounded</th>\n",
       "      <th>dropoff_longitude_rounded</th>\n",
       "    </tr>\n",
       "  </thead>\n",
       "  <tbody>\n",
       "    <tr>\n",
       "      <th>0</th>\n",
       "      <td>id1080784</td>\n",
       "      <td>2</td>\n",
       "      <td>2016-02-29 16:40:21</td>\n",
       "      <td>2016-02-29 16:47:01</td>\n",
       "      <td>1</td>\n",
       "      <td>-73.953918</td>\n",
       "      <td>40.778873</td>\n",
       "      <td>-73.963875</td>\n",
       "      <td>40.771164</td>\n",
       "      <td>N</td>\n",
       "      <td>400</td>\n",
       "      <td>5.993961</td>\n",
       "      <td>0</td>\n",
       "      <td>9.0</td>\n",
       "      <td>16</td>\n",
       "      <td>40</td>\n",
       "      <td>5157547.0</td>\n",
       "      <td>16</td>\n",
       "      <td>1.199074</td>\n",
       "      <td>1.125673</td>\n",
       "      <td>-179.022057</td>\n",
       "      <td>40.779</td>\n",
       "      <td>-73.954</td>\n",
       "      <td>40.771</td>\n",
       "      <td>-73.964</td>\n",
       "    </tr>\n",
       "    <tr>\n",
       "      <th>1</th>\n",
       "      <td>id0889885</td>\n",
       "      <td>1</td>\n",
       "      <td>2016-03-11 23:35:37</td>\n",
       "      <td>2016-03-11 23:53:57</td>\n",
       "      <td>2</td>\n",
       "      <td>-73.988312</td>\n",
       "      <td>40.731743</td>\n",
       "      <td>-73.994751</td>\n",
       "      <td>40.694931</td>\n",
       "      <td>N</td>\n",
       "      <td>1100</td>\n",
       "      <td>7.003974</td>\n",
       "      <td>4</td>\n",
       "      <td>10.0</td>\n",
       "      <td>23</td>\n",
       "      <td>35</td>\n",
       "      <td>6132863.0</td>\n",
       "      <td>119</td>\n",
       "      <td>4.129117</td>\n",
       "      <td>4.120462</td>\n",
       "      <td>-179.867376</td>\n",
       "      <td>40.732</td>\n",
       "      <td>-73.988</td>\n",
       "      <td>40.695</td>\n",
       "      <td>-73.995</td>\n",
       "    </tr>\n",
       "    <tr>\n",
       "      <th>2</th>\n",
       "      <td>id0857912</td>\n",
       "      <td>2</td>\n",
       "      <td>2016-02-21 17:59:33</td>\n",
       "      <td>2016-02-21 18:26:48</td>\n",
       "      <td>2</td>\n",
       "      <td>-73.997314</td>\n",
       "      <td>40.721458</td>\n",
       "      <td>-73.948029</td>\n",
       "      <td>40.774918</td>\n",
       "      <td>N</td>\n",
       "      <td>1635</td>\n",
       "      <td>7.400010</td>\n",
       "      <td>6</td>\n",
       "      <td>7.0</td>\n",
       "      <td>17</td>\n",
       "      <td>59</td>\n",
       "      <td>4471099.0</td>\n",
       "      <td>161</td>\n",
       "      <td>7.250763</td>\n",
       "      <td>6.957011</td>\n",
       "      <td>0.698130</td>\n",
       "      <td>40.721</td>\n",
       "      <td>-73.997</td>\n",
       "      <td>40.775</td>\n",
       "      <td>-73.948</td>\n",
       "    </tr>\n",
       "    <tr>\n",
       "      <th>3</th>\n",
       "      <td>id3744273</td>\n",
       "      <td>2</td>\n",
       "      <td>2016-01-05 09:44:31</td>\n",
       "      <td>2016-01-05 10:03:32</td>\n",
       "      <td>6</td>\n",
       "      <td>-73.961670</td>\n",
       "      <td>40.759720</td>\n",
       "      <td>-73.956779</td>\n",
       "      <td>40.780628</td>\n",
       "      <td>N</td>\n",
       "      <td>1141</td>\n",
       "      <td>7.040536</td>\n",
       "      <td>1</td>\n",
       "      <td>1.0</td>\n",
       "      <td>9</td>\n",
       "      <td>44</td>\n",
       "      <td>380597.0</td>\n",
       "      <td>33</td>\n",
       "      <td>2.361101</td>\n",
       "      <td>2.352370</td>\n",
       "      <td>0.177111</td>\n",
       "      <td>40.760</td>\n",
       "      <td>-73.962</td>\n",
       "      <td>40.781</td>\n",
       "      <td>-73.957</td>\n",
       "    </tr>\n",
       "    <tr>\n",
       "      <th>4</th>\n",
       "      <td>id0232939</td>\n",
       "      <td>1</td>\n",
       "      <td>2016-02-17 06:42:23</td>\n",
       "      <td>2016-02-17 06:56:31</td>\n",
       "      <td>1</td>\n",
       "      <td>-74.017120</td>\n",
       "      <td>40.708469</td>\n",
       "      <td>-73.988182</td>\n",
       "      <td>40.740631</td>\n",
       "      <td>N</td>\n",
       "      <td>848</td>\n",
       "      <td>6.744059</td>\n",
       "      <td>2</td>\n",
       "      <td>7.0</td>\n",
       "      <td>6</td>\n",
       "      <td>42</td>\n",
       "      <td>4084869.0</td>\n",
       "      <td>54</td>\n",
       "      <td>4.328540</td>\n",
       "      <td>4.159001</td>\n",
       "      <td>0.681702</td>\n",
       "      <td>40.708</td>\n",
       "      <td>-74.017</td>\n",
       "      <td>40.741</td>\n",
       "      <td>-73.988</td>\n",
       "    </tr>\n",
       "  </tbody>\n",
       "</table>\n",
       "</div>"
      ],
      "text/plain": [
       "          id  vendor_id     pickup_datetime    dropoff_datetime  \\\n",
       "0  id1080784          2 2016-02-29 16:40:21 2016-02-29 16:47:01   \n",
       "1  id0889885          1 2016-03-11 23:35:37 2016-03-11 23:53:57   \n",
       "2  id0857912          2 2016-02-21 17:59:33 2016-02-21 18:26:48   \n",
       "3  id3744273          2 2016-01-05 09:44:31 2016-01-05 10:03:32   \n",
       "4  id0232939          1 2016-02-17 06:42:23 2016-02-17 06:56:31   \n",
       "\n",
       "   passenger_count  pickup_longitude  pickup_latitude  dropoff_longitude  \\\n",
       "0                1        -73.953918        40.778873         -73.963875   \n",
       "1                2        -73.988312        40.731743         -73.994751   \n",
       "2                2        -73.997314        40.721458         -73.948029   \n",
       "3                6        -73.961670        40.759720         -73.956779   \n",
       "4                1        -74.017120        40.708469         -73.988182   \n",
       "\n",
       "   dropoff_latitude store_and_fwd_flag  trip_duration  trip_duration_log  \\\n",
       "0         40.771164                  N            400           5.993961   \n",
       "1         40.694931                  N           1100           7.003974   \n",
       "2         40.774918                  N           1635           7.400010   \n",
       "3         40.780628                  N           1141           7.040536   \n",
       "4         40.740631                  N            848           6.744059   \n",
       "\n",
       "   pickup_weekday  pickup_weekofyear  pickup_hour  pickup_minute  pickup_secs  \\\n",
       "0               0                9.0           16             40    5157547.0   \n",
       "1               4               10.0           23             35    6132863.0   \n",
       "2               6                7.0           17             59    4471099.0   \n",
       "3               1                1.0            9             44     380597.0   \n",
       "4               2                7.0            6             42    4084869.0   \n",
       "\n",
       "   pickup_week_hours  distance  haversine _distance   direction  \\\n",
       "0                 16  1.199074             1.125673 -179.022057   \n",
       "1                119  4.129117             4.120462 -179.867376   \n",
       "2                161  7.250763             6.957011    0.698130   \n",
       "3                 33  2.361101             2.352370    0.177111   \n",
       "4                 54  4.328540             4.159001    0.681702   \n",
       "\n",
       "   pickup_latitude_rounded  pickup_longitude_rounded  \\\n",
       "0                   40.779                   -73.954   \n",
       "1                   40.732                   -73.988   \n",
       "2                   40.721                   -73.997   \n",
       "3                   40.760                   -73.962   \n",
       "4                   40.708                   -74.017   \n",
       "\n",
       "   dropoff_latitude_rounded  dropoff_longitude_rounded  \n",
       "0                    40.771                    -73.964  \n",
       "1                    40.695                    -73.995  \n",
       "2                    40.775                    -73.948  \n",
       "3                    40.781                    -73.957  \n",
       "4                    40.741                    -73.988  "
      ]
     },
     "execution_count": 28,
     "metadata": {},
     "output_type": "execute_result"
    }
   ],
   "source": [
    "pd.set_option('display.max_columns',None)\n",
    "df.head()"
   ]
  },
  {
   "cell_type": "code",
   "execution_count": 43,
   "id": "599880c2-2f8f-465f-a133-e4982efb13dc",
   "metadata": {},
   "outputs": [],
   "source": [
    "pickup_hour_bins=[0,6,10,17,21,24]\n",
    "df['hourly_bins']=pd.cut(df['pickup_hour'],bins=pickup_hour_bins,right=False)#right=False means eg[0,6) 6 is excluded only upto 5,True means included\n",
    "ride_counts=df['hourly_bins'].value_counts() \n",
    "df['hourly_rides_count']=df['hourly_bins'].apply(lambda x: ride_counts[x])"
   ]
  },
  {
   "cell_type": "code",
   "execution_count": 45,
   "id": "99ab79c0-e5fc-4786-b323-783b4d9bf475",
   "metadata": {},
   "outputs": [
    {
     "data": {
      "text/plain": [
       "pickup_hour\n",
       "18    45404\n",
       "19    45262\n",
       "20    42165\n",
       "21    42045\n",
       "22    40293\n",
       "17    38313\n",
       "14    37120\n",
       "12    35820\n",
       "15    35687\n",
       "13    35630\n",
       "23    35069\n",
       "11    34061\n",
       "9     33821\n",
       "8     33612\n",
       "10    32713\n",
       "16    32147\n",
       "7     27907\n",
       "0     26726\n",
       "1     19243\n",
       "6     16552\n",
       "2     13960\n",
       "3     10424\n",
       "4      7827\n",
       "5      7521\n",
       "Name: count, dtype: int64"
      ]
     },
     "execution_count": 45,
     "metadata": {},
     "output_type": "execute_result"
    }
   ],
   "source": [
    "df['pickup_hour'].value_counts()\n",
    "#df['pickup_hour'].unique()"
   ]
  },
  {
   "cell_type": "code",
   "execution_count": 47,
   "id": "c928f685-21e5-4288-8517-cc5a0acb5154",
   "metadata": {},
   "outputs": [
    {
     "data": {
      "text/plain": [
       "0         243178\n",
       "1         117407\n",
       "2         171144\n",
       "3         111892\n",
       "4         111892\n",
       "           ...  \n",
       "729317    243178\n",
       "729318     85701\n",
       "729319    171144\n",
       "729320    111892\n",
       "729321    171144\n",
       "Name: hourly_rides_count, Length: 729322, dtype: category\n",
       "Categories (5, int64): [85701 < 111892 < 243178 < 171144 < 117407]"
      ]
     },
     "execution_count": 47,
     "metadata": {},
     "output_type": "execute_result"
    }
   ],
   "source": [
    "df['hourly_rides_count']"
   ]
  },
  {
   "cell_type": "code",
   "execution_count": 24,
   "id": "62aad026-34c2-4674-8515-409d8baadef4",
   "metadata": {},
   "outputs": [
    {
     "data": {
      "text/plain": [
       "Index(['id', 'vendor_id', 'pickup_datetime', 'dropoff_datetime',\n",
       "       'passenger_count', 'pickup_longitude', 'pickup_latitude',\n",
       "       'dropoff_longitude', 'dropoff_latitude', 'store_and_fwd_flag',\n",
       "       'trip_duration', 'trip_duration_log', 'pickup_weekday',\n",
       "       'pickup_weekofyear', 'pickup_hour', 'pickup_minute', 'pickup_secs',\n",
       "       'pickup_week_hours', 'distance', 'haversine _distance', 'direction',\n",
       "       'pickup_latitude_rounded', 'pickup_longitude_rounded',\n",
       "       'dropoff_latitude_rounded', 'dropoff_longitude_rounded', 'hourly_bins',\n",
       "       'hourly_rides_count'],\n",
       "      dtype='object')"
      ]
     },
     "execution_count": 24,
     "metadata": {},
     "output_type": "execute_result"
    }
   ],
   "source": [
    "df.columns"
   ]
  },
  {
   "cell_type": "code",
   "execution_count": 25,
   "id": "5b491b0d-f6a4-4bc6-885a-bee5e0a54f8e",
   "metadata": {},
   "outputs": [
    {
     "data": {
      "text/plain": [
       "id                           0\n",
       "vendor_id                    0\n",
       "pickup_datetime              0\n",
       "dropoff_datetime             0\n",
       "passenger_count              0\n",
       "pickup_longitude             0\n",
       "pickup_latitude              0\n",
       "dropoff_longitude            0\n",
       "dropoff_latitude             0\n",
       "store_and_fwd_flag           0\n",
       "trip_duration                0\n",
       "trip_duration_log            0\n",
       "pickup_weekday               0\n",
       "pickup_weekofyear            0\n",
       "pickup_hour                  0\n",
       "pickup_minute                0\n",
       "pickup_secs                  0\n",
       "pickup_week_hours            0\n",
       "distance                     0\n",
       "haversine _distance          0\n",
       "direction                    0\n",
       "pickup_latitude_rounded      0\n",
       "pickup_longitude_rounded     0\n",
       "dropoff_latitude_rounded     0\n",
       "dropoff_longitude_rounded    0\n",
       "hourly_bins                  0\n",
       "hourly_rides_count           0\n",
       "dtype: int64"
      ]
     },
     "execution_count": 25,
     "metadata": {},
     "output_type": "execute_result"
    }
   ],
   "source": [
    "df.isnull().sum()"
   ]
  },
  {
   "cell_type": "code",
   "execution_count": 26,
   "id": "414fabcc-c3d4-4d0a-bcc5-3d7ffb7d0321",
   "metadata": {},
   "outputs": [],
   "source": [
    "#df.dropna(subset=['trip_duration_for_hours_binning','trip_hours_rides_count'],inplace=True)"
   ]
  },
  {
   "cell_type": "code",
   "execution_count": 27,
   "id": "110d0d2c-2351-4f13-b912-f500ed7f7647",
   "metadata": {},
   "outputs": [
    {
     "data": {
      "text/plain": [
       "id                           0\n",
       "vendor_id                    0\n",
       "pickup_datetime              0\n",
       "dropoff_datetime             0\n",
       "passenger_count              0\n",
       "pickup_longitude             0\n",
       "pickup_latitude              0\n",
       "dropoff_longitude            0\n",
       "dropoff_latitude             0\n",
       "store_and_fwd_flag           0\n",
       "trip_duration                0\n",
       "trip_duration_log            0\n",
       "pickup_weekday               0\n",
       "pickup_weekofyear            0\n",
       "pickup_hour                  0\n",
       "pickup_minute                0\n",
       "pickup_secs                  0\n",
       "pickup_week_hours            0\n",
       "distance                     0\n",
       "haversine _distance          0\n",
       "direction                    0\n",
       "pickup_latitude_rounded      0\n",
       "pickup_longitude_rounded     0\n",
       "dropoff_latitude_rounded     0\n",
       "dropoff_longitude_rounded    0\n",
       "hourly_bins                  0\n",
       "hourly_rides_count           0\n",
       "dtype: int64"
      ]
     },
     "execution_count": 27,
     "metadata": {},
     "output_type": "execute_result"
    }
   ],
   "source": [
    "df.isnull().sum()"
   ]
  },
  {
   "cell_type": "markdown",
   "id": "42a1e5a7-60ad-4619-b4a7-d75ae9825a57",
   "metadata": {},
   "source": [
    "## Model Building"
   ]
  },
  {
   "cell_type": "code",
   "execution_count": 29,
   "id": "2ce8d84f-eb2f-413b-be29-5aecd4d08c4d",
   "metadata": {},
   "outputs": [],
   "source": [
    "from sklearn.metrics import mean_squared_error as mse\n",
    "from math import sqrt"
   ]
  },
  {
   "cell_type": "code",
   "execution_count": 30,
   "id": "bee9ec77-7a9d-4d77-ad23-89fefdab8afe",
   "metadata": {},
   "outputs": [
    {
     "data": {
      "text/plain": [
       "id                                   object\n",
       "vendor_id                             int64\n",
       "pickup_datetime              datetime64[ns]\n",
       "dropoff_datetime             datetime64[ns]\n",
       "passenger_count                       int64\n",
       "pickup_longitude                    float64\n",
       "pickup_latitude                     float64\n",
       "dropoff_longitude                   float64\n",
       "dropoff_latitude                    float64\n",
       "store_and_fwd_flag                   object\n",
       "trip_duration                         int64\n",
       "trip_duration_log                   float64\n",
       "pickup_weekday                        int32\n",
       "pickup_weekofyear                   float64\n",
       "pickup_hour                           int32\n",
       "pickup_minute                         int32\n",
       "pickup_secs                         float64\n",
       "pickup_week_hours                     int32\n",
       "distance                            float64\n",
       "haversine _distance                 float64\n",
       "direction                           float64\n",
       "pickup_latitude_rounded             float64\n",
       "pickup_longitude_rounded            float64\n",
       "dropoff_latitude_rounded            float64\n",
       "dropoff_longitude_rounded           float64\n",
       "hourly_bins                        category\n",
       "hourly_rides_count                 category\n",
       "dtype: object"
      ]
     },
     "execution_count": 30,
     "metadata": {},
     "output_type": "execute_result"
    }
   ],
   "source": [
    "df.dtypes"
   ]
  },
  {
   "cell_type": "code",
   "execution_count": 31,
   "id": "d2a56386-5cd6-498b-b664-e0e1caea3aa4",
   "metadata": {},
   "outputs": [],
   "source": [
    "#df['trip_duration_for_hours_binning']=df['trip_duration_for_hours_binning'].astype('int32')\n",
    "df['hourly_rides_count']=df['hourly_rides_count'].astype('int32')"
   ]
  },
  {
   "cell_type": "code",
   "execution_count": 32,
   "id": "c2bb40e3-cecb-4772-80e6-683377bd330c",
   "metadata": {},
   "outputs": [
    {
     "data": {
      "text/plain": [
       "id                                   object\n",
       "vendor_id                             int64\n",
       "pickup_datetime              datetime64[ns]\n",
       "dropoff_datetime             datetime64[ns]\n",
       "passenger_count                       int64\n",
       "pickup_longitude                    float64\n",
       "pickup_latitude                     float64\n",
       "dropoff_longitude                   float64\n",
       "dropoff_latitude                    float64\n",
       "store_and_fwd_flag                   object\n",
       "trip_duration                         int64\n",
       "trip_duration_log                   float64\n",
       "pickup_weekday                        int32\n",
       "pickup_weekofyear                   float64\n",
       "pickup_hour                           int32\n",
       "pickup_minute                         int32\n",
       "pickup_secs                         float64\n",
       "pickup_week_hours                     int32\n",
       "distance                            float64\n",
       "haversine _distance                 float64\n",
       "direction                           float64\n",
       "pickup_latitude_rounded             float64\n",
       "pickup_longitude_rounded            float64\n",
       "dropoff_latitude_rounded            float64\n",
       "dropoff_longitude_rounded           float64\n",
       "hourly_bins                        category\n",
       "hourly_rides_count                    int32\n",
       "dtype: object"
      ]
     },
     "execution_count": 32,
     "metadata": {},
     "output_type": "execute_result"
    }
   ],
   "source": [
    "df.dtypes"
   ]
  },
  {
   "cell_type": "code",
   "execution_count": 33,
   "id": "b6d98b57-2f0e-4b04-a21a-c7042fac59dd",
   "metadata": {},
   "outputs": [],
   "source": [
    "df_y=df['trip_duration_log']\n",
    "df=df.drop(['id','pickup_datetime','dropoff_datetime','trip_duration','store_and_fwd_flag','hourly_bins','trip_duration_log',],axis=1)\n"
   ]
  },
  {
   "cell_type": "code",
   "execution_count": 34,
   "id": "212d2eb9-1857-492b-80a1-75e4e7672973",
   "metadata": {},
   "outputs": [],
   "source": [
    "from sklearn.model_selection import train_test_split\n",
    "x_train,x_test,y_train,y_test=train_test_split(df,df_y,test_size=1/3,random_state=0)"
   ]
  },
  {
   "cell_type": "markdown",
   "id": "971249d7-7f84-4abe-9588-8225ae9606d5",
   "metadata": {},
   "source": [
    "#### Mean Prediction"
   ]
  },
  {
   "cell_type": "code",
   "execution_count": 36,
   "id": "48a5ed51-bb27-4dab-96a7-6b2abb31ff05",
   "metadata": {},
   "outputs": [
    {
     "data": {
      "text/plain": [
       "0.7986672307875061"
      ]
     },
     "execution_count": 36,
     "metadata": {},
     "output_type": "execute_result"
    }
   ],
   "source": [
    "mean_pred=np.repeat(y_train.mean(),len(y_test))\n",
    "np.sqrt(mse(y_test,mean_pred))"
   ]
  },
  {
   "cell_type": "code",
   "execution_count": 37,
   "id": "a8a03feb-bc78-45a4-88ac-fcf1f0cf2c35",
   "metadata": {},
   "outputs": [
    {
     "data": {
      "text/plain": [
       "Index(['vendor_id', 'passenger_count', 'pickup_longitude', 'pickup_latitude',\n",
       "       'dropoff_longitude', 'dropoff_latitude', 'pickup_weekday',\n",
       "       'pickup_weekofyear', 'pickup_hour', 'pickup_minute', 'pickup_secs',\n",
       "       'pickup_week_hours', 'distance', 'haversine _distance', 'direction',\n",
       "       'pickup_latitude_rounded', 'pickup_longitude_rounded',\n",
       "       'dropoff_latitude_rounded', 'dropoff_longitude_rounded',\n",
       "       'hourly_rides_count'],\n",
       "      dtype='object')"
      ]
     },
     "execution_count": 37,
     "metadata": {},
     "output_type": "execute_result"
    }
   ],
   "source": [
    "df.columns\n"
   ]
  },
  {
   "cell_type": "code",
   "execution_count": 38,
   "id": "4ed5a950-48b1-4d05-bc94-37ea361562d6",
   "metadata": {
    "scrolled": true
   },
   "outputs": [],
   "source": [
    "from sklearn.model_selection import KFold\n",
    "from sklearn.metrics import mean_squared_error as mse\n",
    "from math import sqrt\n",
    "\n",
    "def cv_score(ml_model, rstate=11, cols=df.columns):\n",
    "    i = 1\n",
    "    cv_scores = []\n",
    "    df1 = df[cols].copy()\n",
    "\n",
    "    kf = KFold(n_splits=5, random_state=rstate, shuffle=True)\n",
    "    for train_index, test_index in kf.split(df1):\n",
    "        print('\\n{} of kfold {}'.format(i, kf.n_splits))\n",
    "        xtr, xvl = df1.iloc[train_index], df1.iloc[test_index]\n",
    "        ytr, yvl = df_y.iloc[train_index], df_y.iloc[test_index]\n",
    "\n",
    "        model = ml_model\n",
    "        model.fit(xtr, ytr)\n",
    "        y_pred_train = model.predict(xtr)\n",
    "        y_pred_val = model.predict(xvl)\n",
    "        \n",
    "        rmse_score_train = sqrt(mse(ytr, y_pred_train))\n",
    "        rmse_score_val = sqrt(mse(yvl, y_pred_val))\n",
    "        \n",
    "        msg = ''\n",
    "        msg += 'Train RMSE: {:.5f}'.format(rmse_score_train)\n",
    "        msg += '\\nValidation RMSE: {:.5f}'.format(rmse_score_val)\n",
    "        print(msg)\n",
    "        \n",
    "        cv_scores.append(rmse_score_val)\n",
    "        i += 1\n",
    "    return cv_scores\n",
    "\n",
    "\n",
    "\n"
   ]
  },
  {
   "cell_type": "code",
   "execution_count": 39,
   "id": "881a8682-fcf8-4559-830c-d2beabe5e032",
   "metadata": {},
   "outputs": [
    {
     "name": "stdout",
     "output_type": "stream",
     "text": [
      "\n",
      "1 of kfold 5\n",
      "Train RMSE: 0.64602\n",
      "Validation RMSE: 0.62958\n",
      "\n",
      "2 of kfold 5\n",
      "Train RMSE: 0.64643\n",
      "Validation RMSE: 0.62839\n",
      "\n",
      "3 of kfold 5\n",
      "Train RMSE: 0.61886\n",
      "Validation RMSE: 0.79825\n",
      "\n",
      "4 of kfold 5\n",
      "Train RMSE: 0.64548\n",
      "Validation RMSE: 0.63807\n",
      "\n",
      "5 of kfold 5\n",
      "Train RMSE: 0.64442\n",
      "Validation RMSE: 0.63664\n"
     ]
    }
   ],
   "source": [
    "linreg_scores = cv_score(LinearRegression())"
   ]
  },
  {
   "cell_type": "code",
   "execution_count": 40,
   "id": "0f9f1520-c9e0-4f90-afce-626d32049ec3",
   "metadata": {
    "scrolled": true
   },
   "outputs": [
    {
     "name": "stdout",
     "output_type": "stream",
     "text": [
      "\n",
      "1 of kfold 5\n",
      "Train RMSE: 0.37193\n",
      "Validation RMSE: 0.43453\n",
      "\n",
      "2 of kfold 5\n",
      "Train RMSE: 0.37194\n",
      "Validation RMSE: 0.43747\n",
      "\n",
      "3 of kfold 5\n",
      "Train RMSE: 0.37380\n",
      "Validation RMSE: 0.42781\n",
      "\n",
      "4 of kfold 5\n",
      "Train RMSE: 0.37302\n",
      "Validation RMSE: 0.43078\n",
      "\n",
      "5 of kfold 5\n",
      "Train RMSE: 0.37340\n",
      "Validation RMSE: 0.43178\n"
     ]
    }
   ],
   "source": [
    "d_tree=cv_score(DecisionTreeRegressor(min_samples_leaf=25,min_samples_split=25))"
   ]
  },
  {
   "cell_type": "code",
   "execution_count": null,
   "id": "c1a7b4c5-169f-4735-ac84-91ac2273d16d",
   "metadata": {},
   "outputs": [],
   "source": []
  }
 ],
 "metadata": {
  "kernelspec": {
   "display_name": "Python 3 (ipykernel)",
   "language": "python",
   "name": "python3"
  },
  "language_info": {
   "codemirror_mode": {
    "name": "ipython",
    "version": 3
   },
   "file_extension": ".py",
   "mimetype": "text/x-python",
   "name": "python",
   "nbconvert_exporter": "python",
   "pygments_lexer": "ipython3",
   "version": "3.12.3"
  }
 },
 "nbformat": 4,
 "nbformat_minor": 5
}
